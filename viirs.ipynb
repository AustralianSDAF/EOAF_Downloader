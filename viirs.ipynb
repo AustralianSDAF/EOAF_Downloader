{
 "cells": [
  {
   "cell_type": "code",
   "execution_count": null,
   "metadata": {},
   "outputs": [],
   "source": [
    "from datetime import date\n",
    "from pathlib import Path\n",
    "\n",
    "import ipywidgets as widgets\n",
    "import yaml\n",
    "from ipyfilechooser import FileChooser\n",
    "from matplotlib import cm\n",
    "\n",
    "from src.utils import unique_session_id\n",
    "from src.viirs import APPEEARSDownloader, process_products\n",
    "from src.visualisation import product_visualiser"
   ]
  },
  {
   "cell_type": "markdown",
   "metadata": {},
   "source": [
    "# Session Setup\n",
    "Please run the following cells to setup your session. (i.e. Setting up appEEARS task name, download and processing directories)\n",
    "\n",
    "You may update the task name below from the default value to your preferred value.\n",
    "\n",
    "**Note**: Your task name MUST be unique. You may wish to visit https://appeears.earthdatacloud.nasa.gov/ periodically to remove old requests."
   ]
  },
  {
   "cell_type": "code",
   "execution_count": null,
   "metadata": {},
   "outputs": [],
   "source": [
    "task_name = widgets.Text(description=\"Task Name: \", value=unique_session_id())\n",
    "display(task_name)"
   ]
  },
  {
   "cell_type": "code",
   "execution_count": null,
   "metadata": {},
   "outputs": [],
   "source": [
    "# Load Config File\n",
    "with open(file=\"config.yaml\", mode=\"r\", encoding=\"utf-8\") as file:\n",
    "    config = yaml.safe_load(file)"
   ]
  },
  {
   "cell_type": "code",
   "execution_count": null,
   "metadata": {},
   "outputs": [],
   "source": [
    "# Load Directory Paths and Create Directories\n",
    "raw_dir = Path(config[\"VIIRS_RAW\"], task_name.value)\n",
    "processed_dir = Path(config[\"VIIRS_PROCESSED\"], task_name.value)\n",
    "\n",
    "raw_dir.mkdir(parents=True, exist_ok=True)\n",
    "processed_dir.mkdir(parents=True, exist_ok=True)"
   ]
  },
  {
   "cell_type": "markdown",
   "metadata": {},
   "source": [
    "# Submit a request for VIIRS Products\n",
    "\n",
    "Please enter your APPEEARS login credentials.\n",
    "\n",
    "**Note**: You will need to create an account on https://appeears.earthdatacloud.nasa.gov/ before proceeding."
   ]
  },
  {
   "cell_type": "code",
   "execution_count": null,
   "metadata": {},
   "outputs": [],
   "source": [
    "username = widgets.Text(description=\"APPEEARS Username: \")\n",
    "username.style.description_width = \"initial\"\n",
    "\n",
    "password = widgets.Password(description=\"APPEEARS Password: \")\n",
    "password.style.description_width = \"initial\"\n",
    "\n",
    "credential_widgets = widgets.VBox([username, password])\n",
    "display(credential_widgets)"
   ]
  },
  {
   "cell_type": "code",
   "execution_count": null,
   "metadata": {},
   "outputs": [],
   "source": [
    "# Initialize APPEARS Downloader and Login\n",
    "appeears = APPEEARSDownloader(username.value, password.value)\n",
    "token = appeears.get_token()"
   ]
  },
  {
   "cell_type": "markdown",
   "metadata": {},
   "source": [
    "Please enter your product search criteria below."
   ]
  },
  {
   "cell_type": "code",
   "execution_count": null,
   "metadata": {},
   "outputs": [],
   "source": [
    "start_date = widgets.DatePicker(description=\"Start Date: \", value=date(2024, 1, 1))\n",
    "end_date = widgets.DatePicker(description=\"End Date: \", value=date(2024, 1, 8))\n",
    "\n",
    "min_lon = widgets.FloatText(description=\"Min Lon: \", value=116.01897)\n",
    "max_lon = widgets.FloatText(description=\"Max Lon: \", value=116.20093)\n",
    "min_lat = widgets.FloatText(description=\"Min Lat: \", value=-32.30959)\n",
    "max_lat = widgets.FloatText(description=\"Max Lat: \", value=-31.98176)\n",
    "shapefile_path = FileChooser(\n",
    "    title=\"Upload a Shapefile (Optional): \", filter_pattern=\"*.shp\"\n",
    ")\n",
    "\n",
    "product = widgets.Select(\n",
    "    options=[\"VNP09GA.001\", \"VNP09GA.002\"],\n",
    "    value=\"VNP09GA.001\",\n",
    "    rows=2,\n",
    "    description=\"VIIRS Product: \",\n",
    ")\n",
    "product.style.description_width = \"initial\"\n",
    "\n",
    "search_widgets = widgets.VBox(\n",
    "    [\n",
    "        start_date,\n",
    "        end_date,\n",
    "        widgets.HTML(\"<br>\"),\n",
    "        widgets.Label(\n",
    "            \"Please enter your area of interest coordinates or upload a Shapefile.\"\n",
    "        ),\n",
    "        min_lon,\n",
    "        max_lon,\n",
    "        min_lat,\n",
    "        max_lat,\n",
    "        shapefile_path,\n",
    "        widgets.HTML(\"<br>\"),\n",
    "        product,\n",
    "    ]\n",
    ")\n",
    "display(search_widgets)"
   ]
  },
  {
   "cell_type": "markdown",
   "metadata": {},
   "source": [
    "Depending on your search parameters, APPEEARS may take a while to process your request.\n",
    "\n",
    "More information on VIIRS filenames can be found [here](https://lpdaac.usgs.gov/data/get-started-data/collection-overview/missions/s-npp-nasa-viirs-overview/)."
   ]
  },
  {
   "cell_type": "code",
   "execution_count": null,
   "metadata": {},
   "outputs": [],
   "source": [
    "# Generate Task for APPEEARS\n",
    "task = appeears.generate_task(\n",
    "    task_name=task_name.value,\n",
    "    min_lat=min_lat.value,\n",
    "    min_lon=min_lon.value,\n",
    "    max_lat=max_lat.value,\n",
    "    max_lon=max_lon.value,\n",
    "    shapefile=shapefile_path.selected,\n",
    "    start_date=start_date.value,\n",
    "    end_date=end_date.value,\n",
    "    product_type=product.value,\n",
    ")\n",
    "\n",
    "# Submit Task to APPEEARS and Retrieve Task ID\n",
    "task_id = appeears.submit_task(task=task, token=token)"
   ]
  },
  {
   "cell_type": "code",
   "execution_count": null,
   "metadata": {},
   "outputs": [],
   "source": [
    "# Check submitted task status\n",
    "status = appeears.check_task(task_id=task_id, token=token, timeout=120)"
   ]
  },
  {
   "cell_type": "code",
   "execution_count": null,
   "metadata": {},
   "outputs": [],
   "source": [
    "# Download satellite product from APPEARS\n",
    "if status:\n",
    "    appeears.download(\n",
    "        task_name=task_name.value,\n",
    "        task_id=task_id,\n",
    "        product_type=product.value,\n",
    "        download_dir=raw_dir,\n",
    "        token=token,\n",
    "    )"
   ]
  },
  {
   "cell_type": "code",
   "execution_count": null,
   "metadata": {},
   "outputs": [],
   "source": [
    "# Logout from APPEARS API\n",
    "appeears.logout(token=token)"
   ]
  },
  {
   "cell_type": "markdown",
   "metadata": {},
   "source": [
    "# NDVI, NDMI and NBR Processing\n",
    "\n",
    "Please select which VIIRS product to process. (Use Ctrl to select multiple)."
   ]
  },
  {
   "cell_type": "code",
   "execution_count": null,
   "metadata": {},
   "outputs": [],
   "source": [
    "viirs_dirs = [\n",
    "    dir\n",
    "    for dir in list(Path(raw_dir, \"VNP09GA.001\").glob(\"*\"))\n",
    "    + list(Path(raw_dir, \"VNP09GA.002\").glob(\"*\"))\n",
    "    if dir.is_dir()\n",
    "]\n",
    "\n",
    "selected_products = widgets.SelectMultiple(\n",
    "    options=viirs_dirs,\n",
    "    rows=10,\n",
    "    description=\"Select a VIIRS product to process: \",\n",
    "    layout=widgets.Layout(width=\"auto\"),\n",
    ")\n",
    "selected_products.style.description_width = \"initial\"\n",
    "\n",
    "select_all_products = widgets.Checkbox(\n",
    "    value=False, description=\"Select all products? \", indent=False\n",
    ")\n",
    "processing_widgets = widgets.VBox([selected_products, select_all_products])\n",
    "\n",
    "display(processing_widgets)"
   ]
  },
  {
   "cell_type": "code",
   "execution_count": null,
   "metadata": {},
   "outputs": [],
   "source": [
    "process_products(\n",
    "    product_paths=selected_products.value,\n",
    "    viirs_dirs=viirs_dirs,\n",
    "    viirs_processed_dir=processed_dir,\n",
    "    all_products=select_all_products.value,\n",
    ")"
   ]
  },
  {
   "cell_type": "markdown",
   "metadata": {},
   "source": [
    "# Visualisation\n",
    "\n",
    "Please select a processed VIIRS product to visualise via ipyleaflet. (Use Ctrl to select multiple).\n",
    "\n",
    "You have the option to select a colormap for your raster layers.\n",
    "\n",
    "Note: You WILL need to run the %%javascript cell below before displaying the map."
   ]
  },
  {
   "cell_type": "code",
   "execution_count": null,
   "metadata": {},
   "outputs": [],
   "source": [
    "processed_dirs = [dir for dir in list(processed_dir.glob(\"*\")) if dir.is_dir()]\n",
    "\n",
    "selected_products = widgets.SelectMultiple(\n",
    "    options=processed_dirs,\n",
    "    rows=10,\n",
    "    description=\"Select a VIIRS product to visualise: \",\n",
    "    layout=widgets.Layout(width=\"auto\"),\n",
    ")\n",
    "selected_products.style.description_width = \"initial\"\n",
    "\n",
    "selected_resample = widgets.Checkbox(\n",
    "    value=True, \n",
    "    description=\"(RECOMMENDED) Apply a downscaling factor to reduce the spatial resolution of product for rapid display?\", \n",
    "    indent=False,\n",
    "    layout=widgets.Layout(width=\"auto\"),\n",
    ")\n",
    "\n",
    "\n",
    "resampling_factor = widgets.IntText(\n",
    "    value=6, description=\"Downscaling Factor: \", disabled=True\n",
    ")\n",
    "resampling_factor.style.description_width = \"initial\"\n",
    "\n",
    "description_box = widgets.HTML(\n",
    "    value=\"It is recommended to do any actual analysis in python outside of this notebook or in a GIS program such as QGIS/ArcGIS\",\n",
    "    placeholder='',\n",
    "    description='Note:',\n",
    ")\n",
    "\n",
    "selected_colormap = widgets.RadioButtons(\n",
    "    options={\"Viridis\": cm.viridis, \"Jet\": cm.jet, \"Turbo\": cm.turbo, },\n",
    "    description=\"Select a colormap: \",\n",
    "    layout=widgets.Layout(width=\"auto\"),\n",
    ")\n",
    "\n",
    "selected_percentile = widgets.Checkbox(\n",
    "    value=False, \n",
    "    description=\"Apply Histogram-filter to colormap, potentially enhancing contrast and improve image display?\", \n",
    "    indent=False,\n",
    "    layout=widgets.Layout(width=\"auto\"),\n",
    ")\n",
    "\n",
    "colormap_fname = 'notebook_images/colormap_preview.png'\n",
    "with open(colormap_fname, 'rb') as file:\n",
    "    image = file.read()\n",
    "colormap_image_widget = widgets.Image(\n",
    "    value=image,\n",
    "    format='png',\n",
    "    width=600\n",
    ")\n",
    "\n",
    "visualisation_widgets = widgets.VBox(\n",
    "    [\n",
    "        selected_products,\n",
    "        selected_resample,\n",
    "        resampling_factor,\n",
    "        description_box,\n",
    "        selected_colormap,\n",
    "        selected_percentile,\n",
    "        colormap_image_widget\n",
    "    ]\n",
    ")\n",
    "display(visualisation_widgets)"
   ]
  },
  {
   "cell_type": "code",
   "execution_count": null,
   "metadata": {},
   "outputs": [],
   "source": [
    "%%javascript\n",
    "// Check that we havent already applied the fix. If we havent, apply the fix.\n",
    "if (window.pixFix === undefined) { \n",
    " window.pixFix = document.createElement('style');\n",
    " window.pixFix.innerText = '.leaflet-image-layer { image-rendering: pixelated }';\n",
    " console.log(window.pixFix)\n",
    " document.head.appendChild(window.pixFix);\n",
    "}"
   ]
  },
  {
   "cell_type": "code",
   "execution_count": null,
   "metadata": {},
   "outputs": [],
   "source": [
    "product_visualiser(\n",
    "    product_paths=selected_products.value,\n",
    "    product_type=\"VIIRS\",\n",
    "    apply_resample=False,\n",
    "    resample_factor=1,\n",
    "    use_percentile=selected_percentile.value,\n",
    "    cmap=selected_colormap.value,\n",
    ")"
   ]
  }
 ],
 "metadata": {
  "kernelspec": {
   "display_name": "Python 3 (ipykernel)",
   "language": "python",
   "name": "python3"
  },
  "language_info": {
   "codemirror_mode": {
    "name": "ipython",
    "version": 3
   },
   "file_extension": ".py",
   "mimetype": "text/x-python",
   "name": "python",
   "nbconvert_exporter": "python",
   "pygments_lexer": "ipython3",
   "version": "3.12.2"
  }
 },
 "nbformat": 4,
 "nbformat_minor": 4
}
