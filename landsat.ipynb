{
 "cells": [
  {
   "cell_type": "code",
   "execution_count": null,
   "metadata": {},
   "outputs": [],
   "source": [
    "from datetime import date\n",
    "from pathlib import Path\n",
    "\n",
    "import ipywidgets as widgets\n",
    "import yaml\n",
    "from ipyfilechooser import FileChooser\n",
    "from matplotlib import cm\n",
    "\n",
    "from src.landsat import LandsatDownloaderTool, process_products\n",
    "from src.utils import merge_products, unique_session_id\n",
    "from src.visualisation import product_visualiser"
   ]
  },
  {
   "cell_type": "markdown",
   "metadata": {},
   "source": [
    "# Session Setup\n",
    "Please run the following cells to setup your session. (i.e. Setting up download and processing directories)\n",
    "\n",
    "You may update the session ID below from the default value to your preferred value."
   ]
  },
  {
   "cell_type": "code",
   "execution_count": null,
   "metadata": {},
   "outputs": [],
   "source": [
    "session_id = widgets.Text(description=\"Session ID: \", value=unique_session_id())\n",
    "display(session_id)"
   ]
  },
  {
   "cell_type": "code",
   "execution_count": null,
   "metadata": {},
   "outputs": [],
   "source": [
    "# Load Config File\n",
    "with open(\"config.yaml\", \"r\") as file:\n",
    "    config = yaml.safe_load(file)"
   ]
  },
  {
   "cell_type": "code",
   "execution_count": null,
   "metadata": {},
   "outputs": [],
   "source": [
    "# Load Directory Paths and Create Directories\n",
    "raw_dir = Path(config[\"LANDSAT_RAW\"], session_id.value)\n",
    "processed_dir = Path(config[\"LANDSAT_PROCESSED\"], session_id.value)\n",
    "\n",
    "raw_dir.mkdir(parents=True, exist_ok=True)\n",
    "processed_dir.mkdir(parents=True, exist_ok=True)"
   ]
  },
  {
   "cell_type": "markdown",
   "metadata": {},
   "source": [
    "# Search for Landsat 8/9 Products\n",
    "\n",
    "Please enter your Landsat search criteria below. You may either define a bounding box or upload a shape file.\n",
    "\n",
    "**NOTE**: Landsat products can be downloaded via Digital Earth Australia's (DEA) S3 Bucket or via NCI THREDDS. Currently, DEA is offering the products for free but may change to a \"requestor pays\" model in the future."
   ]
  },
  {
   "cell_type": "code",
   "execution_count": null,
   "metadata": {},
   "outputs": [],
   "source": [
    "start_date = widgets.DatePicker(description=\"Start Date: \", value=date(2024, 1, 1))\n",
    "end_date = widgets.DatePicker(description=\"End Date: \", value=date(2024, 1, 8))\n",
    "\n",
    "min_lon = widgets.FloatText(description=\"Min Lon: \", value=116.01897)\n",
    "min_lon.style.description_width = \"initial\"\n",
    "\n",
    "max_lon = widgets.FloatText(description=\"Max Lon: \", value=116.20093)\n",
    "max_lon.style.description_width = \"initial\"\n",
    "\n",
    "min_lat = widgets.FloatText(description=\"Min Lat: \", value=-32.30959)\n",
    "min_lat.style.description_width = \"initial\"\n",
    "\n",
    "max_lat = widgets.FloatText(description=\"Max Lat: \", value=-31.98176)\n",
    "max_lat.style.description_width = \"initial\"\n",
    "\n",
    "shapefile_path = FileChooser(\n",
    "    title=\"Upload a Shapefile (Optional): \", filter_pattern=\"*.shp\"\n",
    ")\n",
    "\n",
    "collections = widgets.Select(\n",
    "    options={\"Landsat-8\": \"ga_ls8c_ard_3\", \"Landsat-9\": \"ga_ls9c_ard_3\"},\n",
    "    description=\"Select Landsat collection: \",\n",
    "    rows=2,\n",
    "    value=\"ga_ls8c_ard_3\",\n",
    ")\n",
    "collections.style.description_width = \"initial\"\n",
    "\n",
    "download_from_thredds = widgets.Checkbox(\n",
    "    value=False, description=\"Download from NCI THREDDS? \", indent=False\n",
    ")\n",
    "\n",
    "search_widgets = widgets.VBox(\n",
    "    [\n",
    "        start_date,\n",
    "        end_date,\n",
    "        widgets.HTML(\"<br>\"),\n",
    "        widgets.Label(\n",
    "            \"Please enter your area of interest coordinates or upload a Shapefile.\"\n",
    "        ),\n",
    "        min_lon,\n",
    "        max_lon,\n",
    "        min_lat,\n",
    "        max_lat,\n",
    "        shapefile_path,\n",
    "        widgets.HTML(\"<br>\"),\n",
    "        collections,\n",
    "        download_from_thredds,\n",
    "    ]\n",
    ")\n",
    "\n",
    "display(search_widgets)"
   ]
  },
  {
   "cell_type": "code",
   "execution_count": null,
   "metadata": {},
   "outputs": [],
   "source": [
    "# Initialise Client\n",
    "client = LandsatDownloaderTool()\n",
    "\n",
    "# Store Search Parameters\n",
    "search_params = client.search_parameters(\n",
    "    start_date=start_date.value,\n",
    "    end_date=end_date.value,\n",
    "    min_lon=min_lon.value,\n",
    "    max_lon=max_lon.value,\n",
    "    min_lat=min_lat.value,\n",
    "    max_lat=max_lat.value,\n",
    "    shapefile=shapefile_path.selected,\n",
    "    collection=collections.value,\n",
    ")\n",
    "\n",
    "# Search for Products from DEA STAC API\n",
    "search_results = client.search(search_params, True)"
   ]
  },
  {
   "cell_type": "code",
   "execution_count": null,
   "metadata": {},
   "outputs": [],
   "source": [
    "# Return next aquisition date for AOI (Approximate)\n",
    "client.get_next_aquisition_date(search_params)"
   ]
  },
  {
   "cell_type": "markdown",
   "metadata": {},
   "source": [
    "# Download Landsat 8/9 Products\n",
    "\n",
    "Please confirm your search results above. Depending on your search criteria, there may be a large number of products to download. \n",
    "\n",
    "Please be patient.\n",
    "\n",
    "The filenames of downloaded Level 2 products have the follow naming convention (described in more detail [here](https://knowledge.dea.ga.gov.au/guides/reference/collection_3_naming/)).\n",
    "\n",
    "![image](notebook_images/ARD_Landsat_Filename.svg)  \n",
    "Image © Commonwealth of Australia (Geoscience Australia) 2021, [Digital Earth Austraia](https://knowledge.dea.ga.gov.au/guides/reference/collection_3_naming/), [CC BY 4.0](https://www.ga.gov.au/copyright)"
   ]
  },
  {
   "cell_type": "code",
   "execution_count": null,
   "metadata": {},
   "outputs": [],
   "source": [
    "# Download Search Results\n",
    "client.download(\n",
    "    search_results=search_results,\n",
    "    download_dir=raw_dir,\n",
    "    download_from_thredds=download_from_thredds.value,\n",
    ")"
   ]
  },
  {
   "cell_type": "markdown",
   "metadata": {},
   "source": [
    "# NDVI, NDMI and NBR Processing\n",
    "\n",
    "Please select which Landsat product(s) to process. (Use Ctrl to select multiple).\n",
    "You have the option of processing all downloaded products, but it may take some time."
   ]
  },
  {
   "cell_type": "code",
   "execution_count": null,
   "metadata": {},
   "outputs": [],
   "source": [
    "# Retrieve all downloaded Landsat directories\n",
    "landsat_dirs = [dir for dir in list(raw_dir.glob(\"*\")) if dir.is_dir()]\n",
    "\n",
    "selected_products = widgets.SelectMultiple(\n",
    "    options=landsat_dirs,\n",
    "    rows=10,\n",
    "    description=\"Select a Landsat product(s) to process: \",\n",
    "    layout=widgets.Layout(width=\"auto\"),\n",
    ")\n",
    "selected_products.style.description_width = \"initial\"\n",
    "\n",
    "select_all_products = widgets.Checkbox(\n",
    "    value=False, description=\"Select all products? \", indent=False\n",
    ")\n",
    "\n",
    "crop = widgets.Checkbox(\n",
    "    value=False, description=\"Crop to Area of Interest? \", indent=False\n",
    ")\n",
    "\n",
    "processing_widgets = widgets.VBox([selected_products, select_all_products, crop])\n",
    "display(processing_widgets)"
   ]
  },
  {
   "cell_type": "code",
   "execution_count": null,
   "metadata": {},
   "outputs": [],
   "source": [
    "process_products(\n",
    "    product_paths=selected_products.value,\n",
    "    landsat_dirs=landsat_dirs,\n",
    "    landsat_processed_dir=processed_dir,\n",
    "    all_products=select_all_products.value,\n",
    "    crop=crop.value,\n",
    "    bbox=(min_lon.value, min_lat.value, max_lon.value, max_lat.value),\n",
    "    shapefile=shapefile_path.selected,\n",
    ")"
   ]
  },
  {
   "cell_type": "markdown",
   "metadata": {},
   "source": [
    "# Merge Processed Products (Optional)\n",
    "In some cases, the satellite image scenes may not coincide with your selected area of interest. You may use the cells below to select some processed products and merge the raster files. This may be useful for visualising large areas of interest."
   ]
  },
  {
   "cell_type": "code",
   "execution_count": null,
   "metadata": {},
   "outputs": [],
   "source": [
    "processed_dirs = [dir for dir in list(processed_dir.glob(\"*\")) if dir.is_dir()]\n",
    "\n",
    "selected_products = widgets.SelectMultiple(\n",
    "    options=processed_dirs,\n",
    "    rows=10,\n",
    "    description=\"Select satellite products to merge: \",\n",
    "    layout=widgets.Layout(width=\"auto\"),\n",
    ")\n",
    "selected_products.style.description_width = \"initial\"\n",
    "\n",
    "display(selected_products)"
   ]
  },
  {
   "cell_type": "code",
   "execution_count": null,
   "metadata": {},
   "outputs": [],
   "source": [
    "merge_products(product_paths=selected_products.value)"
   ]
  },
  {
   "cell_type": "markdown",
   "metadata": {},
   "source": [
    "# Visualisation\n",
    "Please select a processed Landsat product to visualise via ipyleaflet. (Use Ctrl to select multiple).\n",
    "\n",
    "You have the option to select a colormap for your raster layers.\n",
    "\n",
    "Note: You WILL need to run the %%javascript cell below before displaying the map."
   ]
  },
  {
   "cell_type": "code",
   "execution_count": null,
   "metadata": {},
   "outputs": [],
   "source": [
    "processed_dirs = [dir for dir in list(processed_dir.glob(\"*\")) if dir.is_dir()]\n",
    "\n",
    "selected_products = widgets.SelectMultiple(\n",
    "    options=processed_dirs,\n",
    "    rows=10,\n",
    "    description=\"Select a Sentinel-2 product to visualise: \",\n",
    "    layout=widgets.Layout(width=\"auto\"),\n",
    ")\n",
    "selected_products.style.description_width = \"initial\"\n",
    "\n",
    "selected_resample = widgets.Checkbox(\n",
    "    value=True, \n",
    "    description=\"(RECOMMENDED) Apply a downscaling factor to reduce the spatial resolution of product for rapid display?\", \n",
    "    indent=False,\n",
    "    layout=widgets.Layout(width=\"auto\"),\n",
    ")\n",
    "\n",
    "\n",
    "resampling_factor = widgets.IntText(\n",
    "    value=6, description=\"Downscaling Factor: \", disabled=True\n",
    ")\n",
    "resampling_factor.style.description_width = \"initial\"\n",
    "\n",
    "description_box = widgets.HTML(\n",
    "    value=\"It is recommended to do any actual analysis in python outside of this notebook or in a GIS program such as QGIS/ArcGIS\",\n",
    "    placeholder='',\n",
    "    description='Note:',\n",
    ")\n",
    "\n",
    "selected_colormap = widgets.RadioButtons(\n",
    "    options={\"Viridis\": cm.viridis, \"Jet\": cm.jet, \"Turbo\": cm.turbo, },\n",
    "    description=\"Select a colormap: \",\n",
    "    layout=widgets.Layout(width=\"auto\"),\n",
    ")\n",
    "\n",
    "selected_percentile = widgets.Checkbox(\n",
    "    value=False, \n",
    "    description=\"Apply Histogram-filter to colormap, potentially enhancing contrast and improve image display?\", \n",
    "    indent=False,\n",
    "    layout=widgets.Layout(width=\"auto\"),\n",
    ")\n",
    "\n",
    "colormap_fname = 'notebook_images/colormap_preview.png'\n",
    "with open(colormap_fname, 'rb') as file:\n",
    "    image = file.read()\n",
    "colormap_image_widget = widgets.Image(\n",
    "    value=image,\n",
    "    format='png',\n",
    "    width=600\n",
    ")\n",
    "\n",
    "visualisation_widgets = widgets.VBox(\n",
    "    [\n",
    "        selected_products,\n",
    "        selected_resample,\n",
    "        resampling_factor,\n",
    "        description_box,\n",
    "        selected_colormap,\n",
    "        selected_percentile,\n",
    "        colormap_image_widget\n",
    "    ]\n",
    ")\n",
    "display(visualisation_widgets)"
   ]
  },
  {
   "cell_type": "code",
   "execution_count": null,
   "metadata": {},
   "outputs": [],
   "source": [
    "%%javascript\n",
    "// Check that we havent already applied the fix. If we havent, apply the fix.\n",
    "if (window.pixFix === undefined) { \n",
    " window.pixFix = document.createElement('style');\n",
    " window.pixFix.innerText = '.leaflet-image-layer { image-rendering: pixelated }';\n",
    " console.log(window.pixFix)\n",
    " document.head.appendChild(window.pixFix);\n",
    "}"
   ]
  },
  {
   "cell_type": "code",
   "execution_count": null,
   "metadata": {},
   "outputs": [],
   "source": [
    "product_visualiser(\n",
    "    product_paths=selected_products.value,\n",
    "    product_type=\"DEA\",\n",
    "    apply_resample=selected_resample.value,\n",
    "    resample_factor=resampling_factor.value,\n",
    "    use_percentile=selected_percentile.value,\n",
    "    cmap=selected_colormap.value,\n",
    ")"
   ]
  }
 ],
 "metadata": {
  "kernelspec": {
   "display_name": "Python 3 (ipykernel)",
   "language": "python",
   "name": "python3"
  },
  "language_info": {
   "codemirror_mode": {
    "name": "ipython",
    "version": 3
   },
   "file_extension": ".py",
   "mimetype": "text/x-python",
   "name": "python",
   "nbconvert_exporter": "python",
   "pygments_lexer": "ipython3",
   "version": "3.12.2"
  }
 },
 "nbformat": 4,
 "nbformat_minor": 4
}
